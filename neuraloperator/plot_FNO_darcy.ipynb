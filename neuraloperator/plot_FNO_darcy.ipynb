{
  "cells": [
    {
      "cell_type": "code",
      "execution_count": 11,
      "metadata": {
        "collapsed": false
      },
      "outputs": [],
      "source": [
        "%matplotlib inline"
      ]
    },
    {
      "cell_type": "markdown",
      "metadata": {},
      "source": [
        "\n",
        "# Training a neural operator on Darcy-Flow\n",
        "In this example, we demonstrate how to use the small Darcy-Flow example we ship with the package\n"
      ]
    },
    {
      "cell_type": "code",
      "execution_count": 12,
      "metadata": {
        "collapsed": false
      },
      "outputs": [],
      "source": [
        "import torch\n",
        "import matplotlib.pyplot as plt\n",
        "import sys\n",
        "from neuralop.models import TFNO\n",
        "from neuralop import Trainer\n",
        "from neuralop.datasets import load_darcy_flow_small\n",
        "from neuralop.utils import count_params\n",
        "from neuralop import LpLoss, H1Loss\n",
        "\n",
        "device = 'cpu'"
      ]
    },
    {
      "cell_type": "markdown",
      "metadata": {},
      "source": [
        "Loading the Navier-Stokes dataset in 128x128 resolution\n",
        "\n"
      ]
    },
    {
      "cell_type": "code",
      "execution_count": 13,
      "metadata": {
        "collapsed": false
      },
      "outputs": [
        {
          "name": "stdout",
          "output_type": "stream",
          "text": [
            "UnitGaussianNormalizer init on 1000, reducing over [0, 1, 2, 3], samples of shape [1, 16, 16].\n",
            "   Mean and std of shape torch.Size([1, 1, 1]), eps=1e-05\n",
            "Loading test db at resolution 32 with 50 samples and batch-size=32\n"
          ]
        }
      ],
      "source": [
        "train_loader, test_loaders, output_encoder = load_darcy_flow_small(\n",
        "        n_train=1000, batch_size=32, \n",
        "        test_resolutions=[16, 32], n_tests=[100, 50],\n",
        "        test_batch_sizes=[32, 32],\n",
        ")"
      ]
    },
    {
      "cell_type": "markdown",
      "metadata": {},
      "source": [
        "We create a tensorized FNO model\n",
        "\n"
      ]
    },
    {
      "cell_type": "code",
      "execution_count": 14,
      "metadata": {
        "collapsed": false
      },
      "outputs": [
        {
          "name": "stdout",
          "output_type": "stream",
          "text": [
            "\n",
            "Our model has 389697 parameters.\n"
          ]
        }
      ],
      "source": [
        "model = TFNO(n_modes=(16, 16), hidden_channels=32, projection_channels=64, factorization='tucker', rank=0.42)\n",
        "model = model.to(device)\n",
        "\n",
        "n_params = count_params(model)\n",
        "print(f'\\nOur model has {n_params} parameters.')\n",
        "sys.stdout.flush()"
      ]
    },
    {
      "cell_type": "markdown",
      "metadata": {},
      "source": [
        "Create the optimizer\n",
        "\n"
      ]
    },
    {
      "cell_type": "code",
      "execution_count": 15,
      "metadata": {
        "collapsed": false
      },
      "outputs": [],
      "source": [
        "optimizer = torch.optim.Adam(model.parameters(), \n",
        "                                lr=8e-3, \n",
        "                                weight_decay=1e-4)\n",
        "scheduler = torch.optim.lr_scheduler.CosineAnnealingLR(optimizer, T_max=30)"
      ]
    },
    {
      "cell_type": "markdown",
      "metadata": {},
      "source": [
        "Creating the losses\n",
        "\n"
      ]
    },
    {
      "cell_type": "code",
      "execution_count": 16,
      "metadata": {
        "collapsed": false
      },
      "outputs": [],
      "source": [
        "l2loss = LpLoss(d=2, p=2)\n",
        "h1loss = H1Loss(d=2)\n",
        "\n",
        "train_loss = h1loss\n",
        "eval_losses={'h1': h1loss, 'l2': l2loss}"
      ]
    },
    {
      "cell_type": "code",
      "execution_count": 17,
      "metadata": {
        "collapsed": false
      },
      "outputs": [
        {
          "name": "stdout",
          "output_type": "stream",
          "text": [
            "\n",
            "### MODEL ###\n",
            " TFNO(\n",
            "  (convs): FactorizedSpectralConv(\n",
            "    (weight): ModuleList(\n",
            "      (0-7): 8 x ComplexTuckerTensor(shape=(32, 32, 8, 8), rank=(25, 25, 6, 6))\n",
            "    )\n",
            "  )\n",
            "  (fno_skips): ModuleList(\n",
            "    (0-3): 4 x SoftGating()\n",
            "  )\n",
            "  (lifting): Lifting(\n",
            "    (fc): Conv2d(3, 32, kernel_size=(1, 1), stride=(1, 1))\n",
            "  )\n",
            "  (projection): Projection(\n",
            "    (fc1): Conv2d(32, 64, kernel_size=(1, 1), stride=(1, 1))\n",
            "    (fc2): Conv2d(64, 1, kernel_size=(1, 1), stride=(1, 1))\n",
            "  )\n",
            ")\n",
            "\n",
            "### OPTIMIZER ###\n",
            " Adam (\n",
            "Parameter Group 0\n",
            "    amsgrad: False\n",
            "    betas: (0.9, 0.999)\n",
            "    capturable: False\n",
            "    differentiable: False\n",
            "    eps: 1e-08\n",
            "    foreach: None\n",
            "    fused: None\n",
            "    initial_lr: 0.008\n",
            "    lr: 0.008\n",
            "    maximize: False\n",
            "    weight_decay: 0.0001\n",
            ")\n",
            "\n",
            "### SCHEDULER ###\n",
            " <torch.optim.lr_scheduler.CosineAnnealingLR object at 0x7f61ee4c4b80>\n",
            "\n",
            "### LOSSES ###\n",
            "\n",
            " * Train: <neuralop.training.losses.H1Loss object at 0x7f61ee4c4d00>\n",
            "\n",
            " * Test: {'h1': <neuralop.training.losses.H1Loss object at 0x7f61ee4c4d00>, 'l2': <neuralop.training.losses.LpLoss object at 0x7f61ee4c4be0>}\n"
          ]
        }
      ],
      "source": [
        "print('\\n### MODEL ###\\n', model)\n",
        "print('\\n### OPTIMIZER ###\\n', optimizer)\n",
        "print('\\n### SCHEDULER ###\\n', scheduler)\n",
        "print('\\n### LOSSES ###')\n",
        "print(f'\\n * Train: {train_loss}')\n",
        "print(f'\\n * Test: {eval_losses}')\n",
        "sys.stdout.flush()"
      ]
    },
    {
      "cell_type": "markdown",
      "metadata": {},
      "source": [
        "Create the trainer\n",
        "\n"
      ]
    },
    {
      "cell_type": "code",
      "execution_count": 18,
      "metadata": {
        "collapsed": false
      },
      "outputs": [
        {
          "name": "stdout",
          "output_type": "stream",
          "text": [
            "Training on regular inputs (no multi-grid patching).\n"
          ]
        }
      ],
      "source": [
        "trainer = Trainer(model, n_epochs=100,\n",
        "                  device=device,\n",
        "                  mg_patching_levels=0,\n",
        "                  wandb_log=False,\n",
        "                  log_test_interval=3,\n",
        "                  use_distributed=False,\n",
        "                  verbose=True)"
      ]
    },
    {
      "attachments": {},
      "cell_type": "markdown",
      "metadata": {},
      "source": [
        "Actually train the model on small Darcy-Flow dataset\n",
        "\n"
      ]
    },
    {
      "cell_type": "code",
      "execution_count": 19,
      "metadata": {
        "collapsed": false
      },
      "outputs": [
        {
          "name": "stdout",
          "output_type": "stream",
          "text": [
            "Training on 1000 samples\n",
            "Testing on [50, 50] samples         on resolutions [16, 32].\n",
            "[0] time=1.71, avg_loss=4.9964, train_err=0.4996, 16_h1=0.3662, 16_l2=0.2800, 32_h1=0.4451, 32_l2=0.2773\n",
            "[3] time=1.71, avg_loss=2.3184, train_err=0.2318, 16_h1=0.2826, 16_l2=0.2196, 32_h1=0.3585, 32_l2=0.2309\n",
            "[6] time=1.69, avg_loss=1.8638, train_err=0.1864, 16_h1=0.2289, 16_l2=0.1893, 32_h1=0.3338, 32_l2=0.2148\n",
            "[9] time=1.71, avg_loss=1.6579, train_err=0.1658, 16_h1=0.1669, 16_l2=0.1206, 32_h1=0.2667, 32_l2=0.1267\n",
            "[12] time=1.73, avg_loss=1.6425, train_err=0.1643, 16_h1=0.1523, 16_l2=0.1101, 32_h1=0.2549, 32_l2=0.1279\n",
            "[15] time=1.81, avg_loss=1.4818, train_err=0.1482, 16_h1=0.1807, 16_l2=0.1454, 32_h1=0.2694, 32_l2=0.1636\n",
            "[18] time=1.76, avg_loss=1.3579, train_err=0.1358, 16_h1=0.1357, 16_l2=0.0924, 32_h1=0.2419, 32_l2=0.1084\n",
            "[21] time=1.97, avg_loss=1.2949, train_err=0.1295, 16_h1=0.1301, 16_l2=0.0875, 32_h1=0.2462, 32_l2=0.1172\n",
            "[24] time=1.72, avg_loss=1.2559, train_err=0.1256, 16_h1=0.1279, 16_l2=0.0849, 32_h1=0.2493, 32_l2=0.1199\n",
            "[27] time=1.81, avg_loss=1.2303, train_err=0.1230, 16_h1=0.1257, 16_l2=0.0832, 32_h1=0.2440, 32_l2=0.1131\n",
            "[30] time=1.70, avg_loss=1.2225, train_err=0.1223, 16_h1=0.1259, 16_l2=0.0833, 32_h1=0.2444, 32_l2=0.1128\n",
            "[33] time=1.73, avg_loss=1.2280, train_err=0.1228, 16_h1=0.1260, 16_l2=0.0833, 32_h1=0.2458, 32_l2=0.1134\n",
            "[36] time=1.68, avg_loss=1.2466, train_err=0.1247, 16_h1=0.1271, 16_l2=0.0846, 32_h1=0.2443, 32_l2=0.1119\n",
            "[39] time=1.70, avg_loss=1.2919, train_err=0.1292, 16_h1=0.1335, 16_l2=0.0913, 32_h1=0.2484, 32_l2=0.1228\n",
            "[42] time=1.65, avg_loss=1.3190, train_err=0.1319, 16_h1=0.1327, 16_l2=0.0914, 32_h1=0.2498, 32_l2=0.1239\n",
            "[45] time=1.66, avg_loss=1.4224, train_err=0.1422, 16_h1=0.1434, 16_l2=0.1028, 32_h1=0.2499, 32_l2=0.1261\n",
            "[48] time=1.69, avg_loss=1.3731, train_err=0.1373, 16_h1=0.1542, 16_l2=0.1164, 32_h1=0.2587, 32_l2=0.1347\n",
            "[51] time=1.71, avg_loss=1.4218, train_err=0.1422, 16_h1=0.1733, 16_l2=0.1334, 32_h1=0.2771, 32_l2=0.1647\n",
            "[54] time=1.71, avg_loss=1.4871, train_err=0.1487, 16_h1=0.1389, 16_l2=0.0942, 32_h1=0.2625, 32_l2=0.1254\n",
            "[57] time=1.70, avg_loss=1.4550, train_err=0.1455, 16_h1=0.1627, 16_l2=0.1211, 32_h1=0.2801, 32_l2=0.1479\n",
            "[60] time=1.69, avg_loss=1.3461, train_err=0.1346, 16_h1=0.1416, 16_l2=0.0984, 32_h1=0.2613, 32_l2=0.1312\n",
            "[63] time=1.66, avg_loss=1.4399, train_err=0.1440, 16_h1=0.1886, 16_l2=0.1444, 32_h1=0.2833, 32_l2=0.1616\n",
            "[66] time=1.73, avg_loss=1.2196, train_err=0.1220, 16_h1=0.1374, 16_l2=0.0952, 32_h1=0.2674, 32_l2=0.1323\n",
            "[69] time=1.66, avg_loss=1.1519, train_err=0.1152, 16_h1=0.1320, 16_l2=0.0886, 32_h1=0.2561, 32_l2=0.1197\n",
            "[72] time=1.72, avg_loss=1.1269, train_err=0.1127, 16_h1=0.1374, 16_l2=0.0974, 32_h1=0.2509, 32_l2=0.1165\n",
            "[75] time=1.70, avg_loss=1.0723, train_err=0.1072, 16_h1=0.1407, 16_l2=0.1035, 32_h1=0.2545, 32_l2=0.1290\n",
            "[78] time=1.74, avg_loss=1.0071, train_err=0.1007, 16_h1=0.1277, 16_l2=0.0860, 32_h1=0.2520, 32_l2=0.1202\n",
            "[81] time=1.68, avg_loss=0.9539, train_err=0.0954, 16_h1=0.1244, 16_l2=0.0823, 32_h1=0.2440, 32_l2=0.1094\n",
            "[84] time=1.76, avg_loss=0.9252, train_err=0.0925, 16_h1=0.1247, 16_l2=0.0826, 32_h1=0.2504, 32_l2=0.1144\n",
            "[87] time=1.71, avg_loss=0.9100, train_err=0.0910, 16_h1=0.1249, 16_l2=0.0826, 32_h1=0.2514, 32_l2=0.1145\n",
            "[90] time=1.82, avg_loss=0.9050, train_err=0.0905, 16_h1=0.1250, 16_l2=0.0827, 32_h1=0.2518, 32_l2=0.1150\n",
            "[93] time=1.72, avg_loss=0.9077, train_err=0.0908, 16_h1=0.1254, 16_l2=0.0831, 32_h1=0.2510, 32_l2=0.1139\n",
            "[96] time=1.79, avg_loss=0.9133, train_err=0.0913, 16_h1=0.1255, 16_l2=0.0834, 32_h1=0.2495, 32_l2=0.1130\n",
            "[99] time=1.71, avg_loss=0.9416, train_err=0.0942, 16_h1=0.1275, 16_l2=0.0847, 32_h1=0.2520, 32_l2=0.1191\n"
          ]
        }
      ],
      "source": [
        "trainer.train(train_loader, test_loaders,\n",
        "              output_encoder,\n",
        "              model, \n",
        "              optimizer,\n",
        "              scheduler, \n",
        "              regularizer=False, \n",
        "              training_loss=train_loss,\n",
        "              eval_losses=eval_losses)"
      ]
    },
    {
      "cell_type": "markdown",
      "metadata": {},
      "source": [
        "Plot the prediction, and compare with the ground-truth \n",
        "Note that we trained on a very small resolution for\n",
        "a very small number of epochs\n",
        "In practice, we would train at larger resolution, on many more samples.\n",
        "\n",
        "However, for practicity, we created a minimal example that\n",
        "i) fits in just a few Mb of memory\n",
        "ii) can be trained quickly on CPU\n",
        "\n",
        "In practice we would train a Neural Operator on one or multiple GPUs\n",
        "\n"
      ]
    },
    {
      "cell_type": "code",
      "execution_count": 20,
      "metadata": {
        "collapsed": false
      },
      "outputs": [
        {
          "name": "stderr",
          "output_type": "stream",
          "text": [
            "/tmp/ipykernel_7035/1837442807.py:36: UserWarning: Matplotlib is currently using module://matplotlib_inline.backend_inline, which is a non-GUI backend, so cannot show the figure.\n",
            "  fig.show()\n"
          ]
        },
        {
          "data": {
            "image/png": "[encoded data removed]",
            "text/plain": [
              "<Figure size 700x700 with 9 Axes>"
            ]
          },
          "metadata": {},
          "output_type": "display_data"
        }
      ],
      "source": [
        "test_samples = test_loaders[32].dataset\n",
        "\n",
        "fig = plt.figure(figsize=(7, 7))\n",
        "for index in range(3):\n",
        "    data = test_samples[index]\n",
        "    # Input x\n",
        "    x = data['x']\n",
        "    # Ground-truth\n",
        "    y = data['y']\n",
        "    # Model prediction\n",
        "    out = model(x.unsqueeze(0))\n",
        "\n",
        "    ax = fig.add_subplot(3, 3, index*3 + 1)\n",
        "    ax.imshow(x[0], cmap='gray')\n",
        "    if index == 0: \n",
        "        ax.set_title('Input x')\n",
        "    plt.xticks([], [])\n",
        "    plt.yticks([], [])\n",
        "\n",
        "    ax = fig.add_subplot(3, 3, index*3 + 2)\n",
        "    ax.imshow(y.squeeze())\n",
        "    if index == 0: \n",
        "        ax.set_title('Ground-truth y')\n",
        "    plt.xticks([], [])\n",
        "    plt.yticks([], [])\n",
        "\n",
        "    ax = fig.add_subplot(3, 3, index*3 + 3)\n",
        "    ax.imshow(out.squeeze().detach().numpy())\n",
        "    if index == 0: \n",
        "        ax.set_title('Model prediction')\n",
        "    plt.xticks([], [])\n",
        "    plt.yticks([], [])\n",
        "\n",
        "fig.suptitle('Inputs, ground-truth output and prediction.', y=0.98)\n",
        "plt.tight_layout()\n",
        "fig.show()"
      ]
    }
  ],
  "metadata": {
    "kernelspec": {
      "display_name": "Python 3",
      "language": "python",
      "name": "python3"
    },
    "language_info": {
      "codemirror_mode": {
        "name": "ipython",
        "version": 3
      },
      "file_extension": ".py",
      "mimetype": "text/x-python",
      "name": "python",
      "nbconvert_exporter": "python",
      "pygments_lexer": "ipython3",
      "version": "3.8.16"
    }
  },
  "nbformat": 4,
  "nbformat_minor": 0
}
